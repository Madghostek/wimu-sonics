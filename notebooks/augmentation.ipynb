{
 "cells": [
  {
   "cell_type": "markdown",
   "id": "8830604c",
   "metadata": {},
   "source": [
    "# Examples on how to use the functions"
   ]
  },
  {
   "cell_type": "code",
   "execution_count": 17,
   "id": "225c9024",
   "metadata": {},
   "outputs": [],
   "source": [
    "from wimu_sonics.augmentation import *\n",
    "import soundfile as sf\n",
    "from pathlib import Path\n",
    "\n",
    "Path(\"masked\").mkdir()"
   ]
  },
  {
   "cell_type": "code",
   "execution_count": 12,
   "id": "a6d6b538",
   "metadata": {},
   "outputs": [],
   "source": [
    "file1 = \"../data/examples/musicgen/1.wav\"\n",
    "file2 = \"../data/examples/suno/Warsaw Dream.mp3\"\n",
    "\n",
    "y1, sr = load_audio(file1)\n",
    "y2, sr = load_audio(file2)"
   ]
  },
  {
   "cell_type": "code",
   "execution_count": 18,
   "id": "78902dd5",
   "metadata": {},
   "outputs": [],
   "source": [
    "masked_freq = apply_frequency_masking(y1, sr, 1000, 1)\n",
    "masked_time = apply_time_masking(y1, sr, 0.5,0.5)\n",
    "\n",
    "sf.write(\"./masked/freq_masked.wav\", masked_freq, sr)\n",
    "sf.write(\"./masked/time_masked.wav\", masked_time, sr)"
   ]
  },
  {
   "cell_type": "code",
   "execution_count": 19,
   "id": "d874533c",
   "metadata": {},
   "outputs": [],
   "source": [
    "mixed = apply_mixup(y1, y2)\n",
    "sf.write(\"./masked/mixup.wav\", mixed, sr)"
   ]
  },
  {
   "cell_type": "code",
   "execution_count": 23,
   "id": "9299b8a0",
   "metadata": {},
   "outputs": [],
   "source": [
    "audio_louder = apply_volume_increase(y1, sr, db_gain=6)\n",
    "audio_faster = apply_speed_increase(y1, sr, rate=1.5)\n",
    "audio_pitch_up = apply_pitch_shift(y1, sr, semitones=4)\n",
    "\n",
    "sf.write(\"./masked/audio_louder.wav\", audio_louder, sr)\n",
    "sf.write(\"./masked/audio_faster.wav\", audio_faster, sr)\n",
    "sf.write(\"./masked/audio_pitch_up.wav\", audio_pitch_up, sr)"
   ]
  },
  {
   "cell_type": "code",
   "execution_count": 25,
   "id": "ff9e525a",
   "metadata": {},
   "outputs": [],
   "source": [
    "audio_noisy = apply_white_noise(y1, sr, amplitude=0.1)\n",
    "sf.write(\"./masked/audio_with_white_noise.wav\", audio_noisy, sr)"
   ]
  },
  {
   "cell_type": "code",
   "execution_count": 26,
   "id": "2441e478",
   "metadata": {},
   "outputs": [],
   "source": [
    "audio_vibrato = apply_vibrato(y1, sr)\n",
    "sf.write(\"./masked/vibrato.wav\", audio_vibrato, sr)"
   ]
  }
 ],
 "metadata": {
  "kernelspec": {
   "display_name": ".venv",
   "language": "python",
   "name": "python3"
  },
  "language_info": {
   "codemirror_mode": {
    "name": "ipython",
    "version": 3
   },
   "file_extension": ".py",
   "mimetype": "text/x-python",
   "name": "python",
   "nbconvert_exporter": "python",
   "pygments_lexer": "ipython3",
   "version": "3.12.3"
  }
 },
 "nbformat": 4,
 "nbformat_minor": 5
}
