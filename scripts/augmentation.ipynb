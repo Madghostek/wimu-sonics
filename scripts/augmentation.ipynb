{
 "cells": [
  {
   "cell_type": "code",
   "execution_count": 2,
   "id": "225c9024",
   "metadata": {},
   "outputs": [],
   "source": [
    "from augmentation import *"
   ]
  },
  {
   "cell_type": "code",
   "execution_count": 4,
   "id": "a6d6b538",
   "metadata": {},
   "outputs": [],
   "source": [
    "file1 = \"./../data/examples/real/GOLEC UORKIESTRA - ŚCIERNISCO (Official Video ⧸ Remastered).mp3\"\n",
    "file2 = \"./../data/examples/suno/Warsaw Dream.mp3\"\n",
    "\n",
    "y1, sr = load_audio(file1)\n",
    "y2, sr = load_audio(file2)"
   ]
  },
  {
   "cell_type": "code",
   "execution_count": null,
   "id": "78902dd5",
   "metadata": {},
   "outputs": [],
   "source": [
    "masked_freq = apply_frequency_masking(y1, sr)\n",
    "masked_time = apply_time_masking(y1, sr)\n",
    "\n",
    "sf.write(\"./masked/freq_masked.wav\", masked_freq, sr)\n",
    "sf.write(\"./masked/time_masked.wav\", masked_time, sr)"
   ]
  },
  {
   "cell_type": "code",
   "execution_count": null,
   "id": "d874533c",
   "metadata": {},
   "outputs": [],
   "source": [
    "mixed = apply_mixup(y1, y2)\n",
    "sf.write(\"./masked/mixup.wav\", mixed, sr)"
   ]
  },
  {
   "cell_type": "code",
   "execution_count": null,
   "id": "9299b8a0",
   "metadata": {},
   "outputs": [],
   "source": [
    "audio_louder = apply_volume_increase(y1, gain_db=-6)\n",
    "audio_faster = apply_speed_increase(y1, sr, speed_factor=1.5)\n",
    "audio_pitch_up = apply_pitch_shift(y1, sr, n_steps=4)\n",
    "\n",
    "sf.write(\"./masked/audio_louder.wav\", audio_louder, sr)\n",
    "sf.write(\"./masked/audio_faster.wav\", audio_faster, sr)\n",
    "sf.write(\"./masked/audio_pitch_up.wav\", audio_pitch_up, sr)"
   ]
  },
  {
   "cell_type": "code",
   "execution_count": null,
   "id": "ff9e525a",
   "metadata": {},
   "outputs": [],
   "source": [
    "audio_noisy = apply_white_noise(y1, sr)\n",
    "sf.write(\"./masked/audio_with_white_noise.wav\", audio_noisy, sr)"
   ]
  },
  {
   "cell_type": "code",
   "execution_count": null,
   "id": "2441e478",
   "metadata": {},
   "outputs": [],
   "source": [
    "audio_vibrato = apply_vibrato(y1, sr, reverb_decay=0.75)\n",
    "sf.write(\"./masked/vibrato.wav\", audio_vibrato, sr)"
   ]
  }
 ],
 "metadata": {
  "kernelspec": {
   "display_name": "Python 3",
   "language": "python",
   "name": "python3"
  },
  "language_info": {
   "codemirror_mode": {
    "name": "ipython",
    "version": 3
   },
   "file_extension": ".py",
   "mimetype": "text/x-python",
   "name": "python",
   "nbconvert_exporter": "python",
   "pygments_lexer": "ipython3",
   "version": "3.12.3"
  }
 },
 "nbformat": 4,
 "nbformat_minor": 5
}
